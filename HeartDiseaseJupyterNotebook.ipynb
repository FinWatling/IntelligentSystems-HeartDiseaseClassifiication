{
 "cells": [
  {
   "cell_type": "code",
   "execution_count": 92,
   "id": "5929c613",
   "metadata": {},
   "outputs": [],
   "source": [
    "\n",
    "from sklearn.model_selection import train_test_split\n",
    "from sklearn.metrics import mean_squared_error, accuracy_score\n",
    "from sklearn.neighbors import KNeighborsClassifier\n",
    "from sklearn.tree import DecisionTreeClassifier\n",
    "from sklearn.ensemble import RandomForestClassifier\n",
    "from sklearn.neural_network import MLPClassifier\n",
    "from sklearn.model_selection import cross_val_score\n",
    "from sklearn.ensemble import VotingClassifier\n",
    "import matplotlib.pyplot as plt\n",
    "import pandas as pd\n",
    "import numpy as np\n",
    "\n"
   ]
  },
  {
   "cell_type": "code",
   "execution_count": 93,
   "id": "01e0bd18",
   "metadata": {
    "tags": []
   },
   "outputs": [],
   "source": [
    "data = pd.read_csv(\"Heart_Disease_Indicators.csv\",skiprows=0)\n",
    "data.drop(['MentHlth','DiffWalk','Education','Income','PhysHlth','AnyHealthcare','NoDocbcCost','GenHlth'],axis=1)\n",
    "X = data.values[:8000,1:]\n",
    "Y = data.values[:8000,0]\n",
    "X_train, X_test, Y_train, Y_test = train_test_split(X, Y, test_size = 0.3)\n"
   ]
  },
  {
   "cell_type": "code",
   "execution_count": 94,
   "id": "7e7bca4b",
   "metadata": {
    "scrolled": true
   },
   "outputs": [
    {
     "name": "stdout",
     "output_type": "stream",
     "text": [
      "Train/test accuracy KNN: 0.89375 %\n",
      "5 Fold validation accuracy KNN: 0.9001250000000001 %\n"
     ]
    }
   ],
   "source": [
    "#KNeighborsClassifier\n",
    "knnscore = []\n",
    "for i in range(1,50):\n",
    "    \n",
    "    clf = KNeighborsClassifier(n_neighbors=i)\n",
    "    clf = clf.fit(X_train, Y_train)\n",
    "    Ykneighbours_prediction = clf.predict(X_test)\n",
    "    knnscore.append(accuracy_score(Y_test,Ykneighbours_prediction))\n",
    "    \n",
    "clf = KNeighborsClassifier(n_neighbors=20)\n",
    "clf = clf.fit(X_train, Y_train)\n",
    "Ykneighbours_prediction = clf.predict(X_test)\n",
    "knnResult = accuracy_score(Y_test,Ykneighbours_prediction)\n",
    "knnCVResult = cross_val_score(clf, X, Y, cv=5)\n",
    "print(\"Train/test accuracy KNN:\",knnResult,\"%\")\n",
    "print(\"5 Fold validation accuracy KNN:\",knnCVResult.mean(),\"%\")"
   ]
  },
  {
   "cell_type": "code",
   "execution_count": 95,
   "id": "9cbc85cd",
   "metadata": {},
   "outputs": [],
   "source": [
    "#print(knnscore)"
   ]
  },
  {
   "cell_type": "code",
   "execution_count": 96,
   "id": "6a40ef2a",
   "metadata": {},
   "outputs": [
    {
     "name": "stdout",
     "output_type": "stream",
     "text": [
      "Train/test accuracy Random Forest: 0.8941666666666667 %\n",
      "5 Fold validation accuracy Random Forest: 0.898625 %\n"
     ]
    }
   ],
   "source": [
    "#Random Forest Classifier (ensemble)\n",
    "clfrandomforest = RandomForestClassifier()\n",
    "clfrandomforest = clfrandomforest.fit(X_train, Y_train)\n",
    "Yrandomforest_prediction = clfrandomforest.predict(X_test)\n",
    "randomforestResult = accuracy_score(Y_test,Yrandomforest_prediction)\n",
    "randomforestCVResult = cross_val_score(clfrandomforest, X, Y, cv=5)\n",
    "print(\"Train/test accuracy Random Forest:\",randomforestResult,\"%\")\n",
    "print(\"5 Fold validation accuracy Random Forest:\",randomforestCVResult.mean(),\"%\")"
   ]
  },
  {
   "cell_type": "code",
   "execution_count": 97,
   "id": "a84d0cce",
   "metadata": {},
   "outputs": [
    {
     "name": "stdout",
     "output_type": "stream",
     "text": [
      "Train/test accuracy MLP: 0.8941666666666667 %\n",
      "5 Fold validation accuracy MLP: 0.8948750000000001 %\n"
     ]
    }
   ],
   "source": [
    "#The MLP Classifier //deep learning\n",
    "clfmlp = MLPClassifier(max_iter=10000)\n",
    "clfmlp.fit(X_train, Y_train)\n",
    "Ymlp_prediction = clfmlp.predict(X_test)\n",
    "mlpResult = accuracy_score(Y_test,Ymlp_prediction)\n",
    "mlpCVResult = cross_val_score(clfmlp, X, Y, cv=5)\n",
    "print(\"Train/test accuracy MLP:\",mlpResult,\"%\")\n",
    "print(\"5 Fold validation accuracy MLP:\",mlpCVResult.mean(),\"%\")"
   ]
  },
  {
   "cell_type": "code",
   "execution_count": 98,
   "id": "011acadf",
   "metadata": {},
   "outputs": [
    {
     "name": "stdout",
     "output_type": "stream",
     "text": [
      "Train/test accuracy Decision Tree: 0.8333333333333334 %\n",
      "5 Fold validation accuracy Decision Tree:: 0.837125 %\n"
     ]
    }
   ],
   "source": [
    "#Decision Tree Classifier\n",
    "clfdecisiontree = DecisionTreeClassifier()\n",
    "clfdecisiontree.fit(X_train,Y_train)\n",
    "Ydecisiontree_prediction = clfdecisiontree.predict(X_test)\n",
    "decisiontreeResult = accuracy_score(Y_test,Ydecisiontree_prediction)\n",
    "decisiontreeCVResult = cross_val_score(clfdecisiontree, X, Y, cv=5)\n",
    "print(\"Train/test accuracy Decision Tree:\",decisiontreeResult,\"%\")\n",
    "print(\"5 Fold validation accuracy Decision Tree::\",decisiontreeCVResult.mean(),\"%\")"
   ]
  },
  {
   "cell_type": "code",
   "execution_count": 99,
   "id": "2d4cb999",
   "metadata": {
    "tags": []
   },
   "outputs": [
    {
     "name": "stdout",
     "output_type": "stream",
     "text": [
      "Train/test HardCLF: 0.8945833333333333 %\n",
      "5 Fold validation accuracy HardCLF: 0.9012499999999999 %\n",
      "Train/test SoftCLF: 0.896625 %\n",
      "5 Fold validation accuracy SoftCLF: 0.896625 %\n"
     ]
    }
   ],
   "source": [
    "### Voting Classifiers (ensemble) ###\n",
    "#Hard voting\n",
    "hardclf = VotingClassifier(estimators=[('knn',clf),('mlp',clfmlp),('dtc',clfdecisiontree),('rfc',clfrandomforest)], voting=\"hard\")\n",
    "hardclf = hardclf.fit(X_train, Y_train)\n",
    "Yhard_prediction = hardclf.predict(X_test)\n",
    "hardEnsembleResult = accuracy_score(Y_test,Yhard_prediction)\n",
    "hardEnsembleCVResult = cross_val_score(hardclf, X, Y, cv=5)\n",
    "print(\"Train/test HardCLF:\",hardEnsembleResult,\"%\")\n",
    "print(\"5 Fold validation accuracy HardCLF:\",hardEnsembleCVResult.mean(),\"%\")\n",
    "#Soft voting\n",
    "softclf = VotingClassifier(estimators=[('knn',clf),('mlp',clfmlp),('dtc',clfdecisiontree),('rfc',clfrandomforest)], voting=\"soft\")\n",
    "softclf = softclf.fit(X_train, Y_train)\n",
    "Ysoft_prediction = softclf.predict(X_test)\n",
    "softEnsembleResult = accuracy_score(Y_test,Ysoft_prediction)\n",
    "softEnsembleCVResult = cross_val_score(softclf, X, Y, cv=5)\n",
    "print(\"Train/test SoftCLF:\",softEnsembleCVResult.mean(),\"%\")\n",
    "print(\"5 Fold validation accuracy SoftCLF:\",softEnsembleCVResult.mean(),\"%\")"
   ]
  },
  {
   "cell_type": "code",
   "execution_count": 100,
   "id": "ef82353c-2364-49b0-a92b-90abf059e81f",
   "metadata": {
    "tags": []
   },
   "outputs": [
    {
     "name": "stdout",
     "output_type": "stream",
     "text": [
      "Train/test accuracy KNN: 0.89375 %\n",
      "Train/test accuracy Random Forest: 0.8941666666666667 %\n",
      "Train/test accuracy MLP: 0.8941666666666667 %\n",
      "Train/test accuracy Decisiontree: 0.8333333333333334 %\n",
      "Train/test HardCLF: 0.8945833333333333 %\n",
      "Train/test SoftCLF: 0.8895833333333333 %\n",
      "5 Fold validation accuracy KNN: 0.9001250000000001 %\n",
      "5 Fold validation accuracy Random Forest: 0.898625 %\n",
      "5 Fold validation accuracy MLP: 0.8948750000000001 %\n",
      "5 Fold validation accuracy Decision Tree:: 0.837125 %\n",
      "5 Fold validation accuracy HardCLF: 0.9012499999999999 %\n",
      "5 Fold validation accuracy SoftCLF: 0.896625 %\n"
     ]
    }
   ],
   "source": [
    "#Printing Outputs for graphs\n",
    "print(\"Train/test accuracy KNN:\",knnResult,\"%\")\n",
    "print(\"Train/test accuracy Random Forest:\",randomforestResult,\"%\")\n",
    "print(\"Train/test accuracy MLP:\",mlpResult,\"%\")\n",
    "print(\"Train/test accuracy Decisiontree:\",decisiontreeResult,\"%\")\n",
    "print(\"Train/test HardCLF:\",hardEnsembleResult,\"%\")\n",
    "print(\"Train/test SoftCLF:\",softEnsembleResult,\"%\")\n",
    "print(\"5 Fold validation accuracy KNN:\",knnCVResult.mean(),\"%\")\n",
    "print(\"5 Fold validation accuracy Random Forest:\",randomforestCVResult.mean(),\"%\")\n",
    "print(\"5 Fold validation accuracy MLP:\",mlpCVResult.mean(),\"%\")\n",
    "print(\"5 Fold validation accuracy Decision Tree::\",decisiontreeCVResult.mean(),\"%\")\n",
    "print(\"5 Fold validation accuracy HardCLF:\",hardEnsembleCVResult.mean(),\"%\")\n",
    "print(\"5 Fold validation accuracy SoftCLF:\",softEnsembleCVResult.mean(),\"%\")"
   ]
  },
  {
   "cell_type": "code",
   "execution_count": 101,
   "id": "74b5d330",
   "metadata": {
    "tags": []
   },
   "outputs": [
    {
     "data": {
      "image/png": "[encoded data removed]",
      "text/plain": [
       "<Figure size 720x432 with 1 Axes>"
      ]
     },
     "metadata": {
      "needs_background": "light"
     },
     "output_type": "display_data"
    }
   ],
   "source": [
    "#Plotting Graph of KNN Classifier, how changing K effects accuracy score\n",
    "plt.figure(figsize=(10,6)) \n",
    "plt.plot(knnscore)\n",
    "plt.ylabel(\"Accuracy\")\n",
    "plt.xlabel(\"K\")\n",
    "plt.show()"
   ]
  },
  {
   "cell_type": "code",
   "execution_count": 102,
   "id": "4225b864",
   "metadata": {
    "tags": []
   },
   "outputs": [
    {
     "data": {
      "image/png": "[encoded data removed]",
      "text/plain": [
       "<Figure size 720x432 with 1 Axes>"
      ]
     },
     "metadata": {
      "needs_background": "light"
     },
     "output_type": "display_data"
    }
   ],
   "source": [
    "#Plotting Graph of Classifier test accuracy\n",
    "y = [knnResult,randomforestResult,mlpResult,decisiontreeResult,hardEnsembleResult,softEnsembleResult]\n",
    "x = ['KNN','Random Forest','MLP', 'Decision Tree','Hard Ensemble', 'Soft Ensemble']\n",
    "plt.figure(figsize=(10,6)) \n",
    "plt.ylabel(\"Accuracy\")\n",
    "plt.bar(x,y,color = 'grey')\n",
    "plt.ylim(0.88, 0.91)\n",
    "plt.show()"
   ]
  },
  {
   "cell_type": "code",
   "execution_count": 103,
   "id": "534549c1-acdb-4cad-a56a-1af34b661998",
   "metadata": {},
   "outputs": [
    {
     "data": {
      "image/png": "[encoded data removed]",
      "text/plain": [
       "<Figure size 720x432 with 1 Axes>"
      ]
     },
     "metadata": {
      "needs_background": "light"
     },
     "output_type": "display_data"
    }
   ],
   "source": [
    "#Plotting Graph of Classifier test accuracy with Cross Fold Validation\n",
    "x = [knnCVResult,randomforestCVResult,mlpCVResult,decisiontreeCVResult,hardEnsembleCVResult,softEnsembleCVResult]\n",
    "x = ['KNN','Random Forest','MLP', 'Decision Tree','Hard Ensemble', 'Soft Ensemble']\n",
    "plt.figure(figsize=(10,6)) \n",
    "plt.ylabel(\"Accuracy\")\n",
    "plt.bar(x,y,color = 'grey')\n",
    "plt.ylim(0.88, 0.91)\n",
    "plt.show()"
   ]
  },
  {
   "cell_type": "code",
   "execution_count": null,
   "id": "c8584aab-6cbc-4913-a105-eeaf8ea3ad3c",
   "metadata": {},
   "outputs": [],
   "source": []
  }
 ],
 "metadata": {
  "kernelspec": {
   "display_name": "Python 3 (ipykernel)",
   "language": "python",
   "name": "python3"
  },
  "language_info": {
   "codemirror_mode": {
    "name": "ipython",
    "version": 3
   },
   "file_extension": ".py",
   "mimetype": "text/x-python",
   "name": "python",
   "nbconvert_exporter": "python",
   "pygments_lexer": "ipython3",
   "version": "3.9.7"
  }
 },
 "nbformat": 4,
 "nbformat_minor": 5
}
