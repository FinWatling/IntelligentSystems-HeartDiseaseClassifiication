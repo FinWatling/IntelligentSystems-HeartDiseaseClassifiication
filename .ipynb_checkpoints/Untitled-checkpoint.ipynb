{
 "cells": [
  {
   "cell_type": "code",
   "execution_count": 123,
   "id": "5929c613",
   "metadata": {},
   "outputs": [],
   "source": [
    "\n",
    "from sklearn.model_selection import train_test_split\n",
    "from sklearn.metrics import mean_squared_error, accuracy_score\n",
    "from sklearn.neighbors import KNeighborsClassifier\n",
    "from sklearn.tree import DecisionTreeClassifier\n",
    "from sklearn.ensemble import RandomForestClassifier\n",
    "from sklearn.neural_network import MLPClassifier\n",
    "from sklearn.ensemble import VotingClassifier\n",
    "\n",
    "import matplotlib.pyplot as plt\n",
    "import pandas as pd\n",
    "import numpy as np\n",
    "\n"
   ]
  },
  {
   "cell_type": "code",
   "execution_count": 124,
   "id": "01e0bd18",
   "metadata": {
    "tags": []
   },
   "outputs": [],
   "source": [
    "data = pd.read_csv(\"Heart_Disease_Indicators.csv\",skiprows=0)\n",
    "data.drop(['MentHlth','DiffWalk','Education','Income','PhysHlth','AnyHealthcare','NoDocbcCost','GenHlth'],axis=1)\n",
    "X = data.values[:8000,1:]\n",
    "Y = data.values[:8000,0]\n",
    "X_train, X_test, Y_train, Y_test = train_test_split(X, Y, test_size = 0.3)\n"
   ]
  },
  {
   "cell_type": "code",
   "execution_count": 125,
   "id": "7e7bca4b",
   "metadata": {
    "scrolled": true
   },
   "outputs": [
    {
     "name": "stdout",
     "output_type": "stream",
     "text": [
      "Train/test accuracy KNN: 0.905 %\n"
     ]
    }
   ],
   "source": [
    "#KNeighborsClassifier\n",
    "knnscore = []\n",
    "for i in range(1,50):\n",
    "    \n",
    "    clf = KNeighborsClassifier(n_neighbors=i)\n",
    "    clf = clf.fit(X_train, Y_train)\n",
    "    Ykneighbours_prediction = clf.predict(X_test)\n",
    "    knnscore.append(accuracy_score(Y_test,Ykneighbours_prediction))\n",
    "    \n",
    "clf = KNeighborsClassifier(n_neighbors=10)\n",
    "clf = clf.fit(X_train, Y_train)\n",
    "Ykneighbours_prediction = clf.predict(X_test)\n",
    "knnscore.append(accuracy_score(Y_test,Ykneighbours_prediction))\n",
    "knnResult = accuracy_score(Y_test,Ykneighbours_prediction)\n",
    "print(\"Train/test accuracy KNN:\",knnResult,\"%\")"
   ]
  },
  {
   "cell_type": "code",
   "execution_count": 126,
   "id": "9cbc85cd",
   "metadata": {},
   "outputs": [],
   "source": [
    "#print(knnscore)"
   ]
  },
  {
   "cell_type": "code",
   "execution_count": 127,
   "id": "6a40ef2a",
   "metadata": {},
   "outputs": [
    {
     "name": "stdout",
     "output_type": "stream",
     "text": [
      "Train/test accuracy Random Forest: 0.9079166666666667 %\n"
     ]
    }
   ],
   "source": [
    "#Random Forest Classifier (ensemble)\n",
    "clfrandomforest = RandomForestClassifier()\n",
    "clfrandomforest = clfrandomforest.fit(X_train, Y_train)\n",
    "Yrandomforest_prediction = clfrandomforest.predict(X_test)\n",
    "randomforestResult = accuracy_score(Y_test,Yrandomforest_prediction)\n",
    "print(\"Train/test accuracy Random Forest:\",randomforestResult,\"%\")"
   ]
  },
  {
   "cell_type": "code",
   "execution_count": 128,
   "id": "a84d0cce",
   "metadata": {},
   "outputs": [
    {
     "name": "stdout",
     "output_type": "stream",
     "text": [
      "Train/test accuracy MLP: 0.8854166666666666 %\n"
     ]
    }
   ],
   "source": [
    "#The MLP Classifier //deep learning\n",
    "clfmlp = MLPClassifier(max_iter=10000)\n",
    "clfmlp.fit(X_train, Y_train)\n",
    "Ymlp_prediction = clfmlp.predict(X_test)\n",
    "mlpResult = accuracy_score(Y_test,Ymlp_prediction)\n",
    "print(\"Train/test accuracy MLP:\",mlpResult,\"%\")"
   ]
  },
  {
   "cell_type": "code",
   "execution_count": 129,
   "id": "011acadf",
   "metadata": {},
   "outputs": [
    {
     "name": "stdout",
     "output_type": "stream",
     "text": [
      "Train/test accuracy Decisiontree: 0.8175 %\n"
     ]
    }
   ],
   "source": [
    "#Decision Tree Classifier\n",
    "clfdecisiontree = DecisionTreeClassifier()\n",
    "clfdecisiontree.fit(X_train,Y_train)\n",
    "Ydecisiontree_prediction = clfdecisiontree.predict(X_test)\n",
    "decisiontreeResult = accuracy_score(Y_test,Ydecisiontree_prediction)\n",
    "print(\"Train/test accuracy Decisiontree:\",decisiontreeResult,\"%\")"
   ]
  },
  {
   "cell_type": "code",
   "execution_count": 130,
   "id": "2d4cb999",
   "metadata": {
    "tags": []
   },
   "outputs": [
    {
     "name": "stdout",
     "output_type": "stream",
     "text": [
      "Train/test HardCLF: 0.9079166666666667\n",
      "Train/test SoftCLF: 0.9041666666666667\n"
     ]
    }
   ],
   "source": [
    "### Voting Classifiers (ensemble) ###\n",
    "#Hard voting\n",
    "hardclf = VotingClassifier(estimators=[('knn',clf),('mlp',clfmlp),('dtc',clfdecisiontree),('rfc',clfrandomforest)])\n",
    "hardclf = hardclf.fit(X_train, Y_train)\n",
    "Yhard_prediction = hardclf.predict(X_test)\n",
    "hardEnsembleResult = accuracy_score(Y_test,Yhard_prediction)\n",
    "print(\"Train/test HardCLF:\",hardEnsembleResult)\n",
    "#Soft voting\n",
    "softclf = VotingClassifier(estimators=[('knn',clf),('mlp',clfmlp),('dtc',clfdecisiontree),('rfc',clfrandomforest)], voting=\"soft\")\n",
    "softclf = softclf.fit(X_train, Y_train)\n",
    "Ysoft_prediction = softclf.predict(X_test)\n",
    "softEnsembleResult = accuracy_score(Y_test,Ysoft_prediction)\n",
    "print(\"Train/test SoftCLF:\",softEnsembleResult)"
   ]
  },
  {
   "cell_type": "code",
   "execution_count": 131,
   "id": "74b5d330",
   "metadata": {
    "tags": []
   },
   "outputs": [
    {
     "data": {
      "image/png": "[encoded data removed]",
      "text/plain": [
       "<Figure size 720x432 with 1 Axes>"
      ]
     },
     "metadata": {
      "needs_background": "light"
     },
     "output_type": "display_data"
    }
   ],
   "source": [
    "#Plotting Graph of KNN Classifier, how changing K effects accuracy score\n",
    "plt.figure(figsize=(10,6)) \n",
    "plt.plot(knnscore)\n",
    "plt.ylabel(\"Accuracy\")\n",
    "plt.xlabel(\"K\")\n",
    "plt.show()"
   ]
  },
  {
   "cell_type": "code",
   "execution_count": 138,
   "id": "4225b864",
   "metadata": {},
   "outputs": [
    {
     "data": {
      "image/png": "[encoded data removed]",
      "text/plain": [
       "<Figure size 720x432 with 1 Axes>"
      ]
     },
     "metadata": {
      "needs_background": "light"
     },
     "output_type": "display_data"
    }
   ],
   "source": [
    "#Plotting Graph of Classifier test accuracy\n",
    "y = [knnResult,randomforestResult,mlpResult,decisiontreeResult,hardEnsembleResult,softEnsembleResult]\n",
    "x = ['KNN','Random Forest','MLP', 'Decision Tree','Hard Ensemble', 'Soft Ensemble']\n",
    "plt.figure(figsize=(10,6)) \n",
    "plt.ylabel(\"Accuracy\")\n",
    "plt.bar(x,y,color = 'grey')\n",
    "plt.ylim(0.8, 0.95)\n",
    "plt.show()"
   ]
  },
  {
   "cell_type": "code",
   "execution_count": null,
   "id": "3b5bd402",
   "metadata": {},
   "outputs": [],
   "source": []
  },
  {
   "cell_type": "code",
   "execution_count": null,
   "id": "b0cde610",
   "metadata": {},
   "outputs": [],
   "source": []
  },
  {
   "cell_type": "code",
   "execution_count": null,
   "id": "280a2aef",
   "metadata": {},
   "outputs": [],
   "source": []
  },
  {
   "cell_type": "code",
   "execution_count": null,
   "id": "504e238a",
   "metadata": {},
   "outputs": [],
   "source": []
  },
  {
   "cell_type": "code",
   "execution_count": null,
   "id": "9560faff",
   "metadata": {},
   "outputs": [],
   "source": []
  }
 ],
 "metadata": {
  "kernelspec": {
   "display_name": "Python 3 (ipykernel)",
   "language": "python",
   "name": "python3"
  },
  "language_info": {
   "codemirror_mode": {
    "name": "ipython",
    "version": 3
   },
   "file_extension": ".py",
   "mimetype": "text/x-python",
   "name": "python",
   "nbconvert_exporter": "python",
   "pygments_lexer": "ipython3",
   "version": "3.9.7"
  }
 },
 "nbformat": 4,
 "nbformat_minor": 5
}
